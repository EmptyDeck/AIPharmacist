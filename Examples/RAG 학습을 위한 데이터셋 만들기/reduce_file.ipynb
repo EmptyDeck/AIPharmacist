{
 "cells": [
  {
   "cell_type": "code",
   "execution_count": null,
   "id": "f17bc972",
   "metadata": {},
   "outputs": [
    {
     "name": "stdout",
     "output_type": "stream",
     "text": [
      "최종 파일 크기: 3.35 MB\n"
     ]
    }
   ],
   "source": [
    "import pandas as pd\n",
    "import numpy as np\n",
    "\n",
    "# CSV 파일 로드\n",
    "df = pd.read_csv(\"OpenData_EasyExcelListC20250802_mod.csv\")\n",
    "\n",
    "# 목표 크기 (MB)\n",
    "target_size_mb = 4\n",
    "\n",
    "# 초기 설정\n",
    "rows_to_keep = df.shape[0]\n",
    "\n",
    "# 반복적으로 행을 줄이면서 크기 측정\n",
    "while rows_to_keep > 1:\n",
    "    # 무작위로 일부 행만 선택\n",
    "    sampled_df = df.sample(n=rows_to_keep, random_state=42)\n",
    "    \n",
    "    # 메모리 크기 측정\n",
    "    current_size_mb = sampled_df.memory_usage(deep=True).sum() / (1024 * 1024)\n",
    "    \n",
    "    if current_size_mb <= target_size_mb:\n",
    "        break\n",
    "    \n",
    "    # 줄이는 비율은 처음엔 크게, 이후엔 작게 (가속화)\n",
    "    rows_to_keep = int(rows_to_keep * 0.95)\n",
    "\n",
    "# 결과 저장\n",
    "sampled_df.to_csv(\"reduced_rows_to_4mb.csv\", index=False)\n",
    "print(f\"최종 크기: {round(current_size_mb, 2)}MB, 남은 행 수: {sampled_df.shape[0]}\")\n"
   ]
  }
 ],
 "metadata": {
  "kernelspec": {
   "display_name": "ibm",
   "language": "python",
   "name": "python3"
  },
  "language_info": {
   "codemirror_mode": {
    "name": "ipython",
    "version": 3
   },
   "file_extension": ".py",
   "mimetype": "text/x-python",
   "name": "python",
   "nbconvert_exporter": "python",
   "pygments_lexer": "ipython3",
   "version": "3.11.9"
  }
 },
 "nbformat": 4,
 "nbformat_minor": 5
}
