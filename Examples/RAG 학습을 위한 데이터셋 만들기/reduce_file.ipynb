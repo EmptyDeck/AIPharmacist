{
 "cells": [
  {
   "cell_type": "markdown",
   "id": "13161590",
   "metadata": {},
   "source": [
    "# Random"
   ]
  },
  {
   "cell_type": "code",
   "execution_count": 1,
   "id": "f17bc972",
   "metadata": {},
   "outputs": [
    {
     "name": "stdout",
     "output_type": "stream",
     "text": [
      "최종 크기: 3.98MB, 남은 행 수: 2776\n"
     ]
    }
   ],
   "source": [
    "import pandas as pd\n",
    "import numpy as np\n",
    "\n",
    "# CSV 파일 로드\n",
    "df = pd.read_csv(\"MedDB_warn_5mb.csv\")\n",
    "\n",
    "# 목표 크기 (MB)\n",
    "target_size_mb = 4\n",
    "\n",
    "# 초기 설정\n",
    "rows_to_keep = df.shape[0]\n",
    "\n",
    "# 반복적으로 행을 줄이면서 크기 측정\n",
    "while rows_to_keep > 1:\n",
    "    # 무작위로 일부 행만 선택\n",
    "    sampled_df = df.sample(n=rows_to_keep, random_state=42)\n",
    "    \n",
    "    # 메모리 크기 측정\n",
    "    current_size_mb = sampled_df.memory_usage(deep=True).sum() / (1024 * 1024)\n",
    "    \n",
    "    if current_size_mb <= target_size_mb:\n",
    "        break\n",
    "    \n",
    "    # 줄이는 비율은 처음엔 크게, 이후엔 작게 (가속화)\n",
    "    rows_to_keep = int(rows_to_keep * 0.99)\n",
    "\n",
    "# 결과 저장\n",
    "sampled_df.to_csv(\"MedDB_warn_5mb.csv\", index=False)\n",
    "print(f\"최종 크기: {round(current_size_mb, 2)}MB, 남은 행 수: {sampled_df.shape[0]}\")\n"
   ]
  },
  {
   "cell_type": "code",
   "execution_count": 1,
   "id": "439ea463",
   "metadata": {},
   "outputs": [
    {
     "name": "stdout",
     "output_type": "stream",
     "text": [
      "Index(['제품명', '업체명', '주성분', '이 약의 효능은 무엇입니까?', '이 약은 어떻게 사용합니까?',\n",
      "       '이 약의 사용상 주의사항은 무엇입니까?', '이 약을 사용하는 동안 주의해야 할 약 또는 음식은 무엇입니까?',\n",
      "       '이 약은 어떤 이상반응이 나타날 수 있습니까?', '이 약은 어떻게 보관해야 합니까?'],\n",
      "      dtype='object')\n"
     ]
    }
   ],
   "source": [
    "import pandas as pd\n",
    "import numpy as np\n",
    "\n",
    "# CSV 파일 로드\n",
    "df = pd.read_csv(\"MedDB_warn.csv\")\n",
    "\n",
    "print(df.columns)"
   ]
  },
  {
   "cell_type": "code",
   "execution_count": null,
   "id": "9c090dc6",
   "metadata": {},
   "outputs": [],
   "source": [
    "import pandas as pd\n",
    "import numpy as np\n",
    "\n",
    "# CSV 파일 로드\n",
    "df = pd.read_csv(\"MedDB_explain.csv\")\n"
   ]
  }
 ],
 "metadata": {
  "kernelspec": {
   "display_name": "ibm",
   "language": "python",
   "name": "python3"
  },
  "language_info": {
   "codemirror_mode": {
    "name": "ipython",
    "version": 3
   },
   "file_extension": ".py",
   "mimetype": "text/x-python",
   "name": "python",
   "nbconvert_exporter": "python",
   "pygments_lexer": "ipython3",
   "version": "3.11.9"
  }
 },
 "nbformat": 4,
 "nbformat_minor": 5
}
