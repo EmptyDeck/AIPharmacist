{
 "cells": [
  {
   "cell_type": "code",
   "execution_count": null,
   "id": "46964e37",
   "metadata": {},
   "outputs": [],
   "source": [
    "import easyocr\n",
    "reader = easyocr.Reader(['ch_sim','en']) # this needs to run only once to load the model into memory\n",
    "result = reader.readtext('image.png', detail=0, paragraph=True)"
   ]
  },
  {
   "cell_type": "code",
   "execution_count": null,
   "id": "bf0cb620",
   "metadata": {},
   "outputs": [],
   "source": [
    "reader.readtext('chinese.jpg', detail = 0)"
   ]
  }
 ],
 "metadata": {
  "kernelspec": {
   "display_name": "ibm",
   "language": "python",
   "name": "python3"
  },
  "language_info": {
   "codemirror_mode": {
    "name": "ipython",
    "version": 3
   },
   "file_extension": ".py",
   "mimetype": "text/x-python",
   "name": "python",
   "nbconvert_exporter": "python",
   "pygments_lexer": "ipython3",
   "version": "3.11.9"
  }
 },
 "nbformat": 4,
 "nbformat_minor": 5
}
