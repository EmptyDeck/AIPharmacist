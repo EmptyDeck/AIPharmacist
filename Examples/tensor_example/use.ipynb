{
 "cells": [
  {
   "cell_type": "code",
   "execution_count": 2,
   "id": "bc75d526",
   "metadata": {},
   "outputs": [
    {
     "name": "stdout",
     "output_type": "stream",
     "text": [
      "1/1 [==============================] - 0s 35ms/step\n",
      "[[5.6822643e-07 8.9794958e-05 1.3182556e-02 9.8588502e-01 6.5045658e-09\n",
      "  5.7544012e-04 1.8104013e-06 5.3987577e-07 2.6364205e-04 5.5154436e-07]]\n",
      "🔢 Predicted digit: 3\n"
     ]
    }
   ],
   "source": [
    "# predict_mnist.py\n",
    "import tensorflow as tf\n",
    "import numpy as np\n",
    "from PIL import Image\n",
    "\n",
    "# Load saved model\n",
    "model = tf.keras.models.load_model('mnist_model.h5')\n",
    "\n",
    "# Load and preprocess image\n",
    "def preprocess_image(image_path):\n",
    "    img = Image.open(image_path).convert('L')      # convert to grayscale\n",
    "    img = img.resize((28, 28))                     # resize to 28x28\n",
    "    img_array = np.array(img)\n",
    "    #img_array = 255 - img_array                    # invert colors (black digits on white bg)\n",
    "    img_array = img_array / 255.0                  # normalize\n",
    "    return img_array.reshape(1, 28, 28)\n",
    "\n",
    "# Example usage\n",
    "image_path = '3.jpg'  # Make sure this is a 28x28 image of a digit\n",
    "img_input = preprocess_image(image_path)\n",
    "\n",
    "prediction = model.predict(img_input)\n",
    "print(prediction)\n",
    "predicted_digit = np.argmax(prediction)\n",
    "\n",
    "print(f\"🔢 Predicted digit: {predicted_digit}\")\n"
   ]
  }
 ],
 "metadata": {
  "kernelspec": {
   "display_name": "tensor",
   "language": "python",
   "name": "python3"
  },
  "language_info": {
   "codemirror_mode": {
    "name": "ipython",
    "version": 3
   },
   "file_extension": ".py",
   "mimetype": "text/x-python",
   "name": "python",
   "nbconvert_exporter": "python",
   "pygments_lexer": "ipython3",
   "version": "3.9.18"
  }
 },
 "nbformat": 4,
 "nbformat_minor": 5
}
