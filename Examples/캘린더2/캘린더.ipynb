{
 "cells": [
  {
   "cell_type": "markdown",
   "id": "60ed863d",
   "metadata": {},
   "source": [
    "# Prompt Template으로 배포한 AI Service 사용하기\n",
    "Prompt Template을 사용하여 AI Service를 배포한 후, 해당 서비스를 사용하는 방법에 대해 설명합니다.\n"
   ]
  },
  {
   "cell_type": "code",
   "execution_count": 1,
   "id": "b0210e59",
   "metadata": {},
   "outputs": [],
   "source": [
    "from dotenv import load_dotenv\n",
    "import os\n",
    "# .env 파일 로드\n",
    "load_dotenv()\n",
    "# IBM Cloud API Key와 URL 설정\n",
    "ibm_cloud_url = os.environ['IBM_CLOUD_URL']\n",
    "project_id=os.environ['PROJECT_ID']\n",
    "api_key = os.environ['API_KEY']"
   ]
  },
  {
   "cell_type": "markdown",
   "id": "0602522f",
   "metadata": {},
   "source": [
    "## 환경정보 설정"
   ]
  },
  {
   "cell_type": "code",
   "execution_count": 2,
   "id": "9a731546",
   "metadata": {},
   "outputs": [],
   "source": [
    "# 배포한 프롬프트 템플릿 모델의 AI Service URL\n",
    "ibm_ai_service_url = \"https://us-south.ml.cloud.ibm.com/ml/v1/deployments/18d4a2e6-add0-4215-a0cb-c67ab4130f90/text/generation?version=2021-05-01\""
   ]
  },
  {
   "cell_type": "markdown",
   "id": "7771236c",
   "metadata": {},
   "source": [
    "번역할 원문을 입력합니다."
   ]
  },
  {
   "cell_type": "code",
   "execution_count": 3,
   "id": "ebb2e6bf",
   "metadata": {},
   "outputs": [],
   "source": [
    "user_input = \"3일동안 저녁에 타우린 먹어야해\""
   ]
  },
  {
   "cell_type": "markdown",
   "id": "0b8d46bd",
   "metadata": {},
   "source": [
    "배포한 AI Service를 호출하여 처리 결과를 확인합니다."
   ]
  },
  {
   "cell_type": "code",
   "execution_count": 4,
   "id": "c8d59e69",
   "metadata": {},
   "outputs": [
    {
     "name": "stdout",
     "output_type": "stream",
     "text": [
      "=== 응답 결과 ===\n",
      "{'model_id': 'mistralai/mistral-large', 'model_version': '2.0.0', 'created_at': '2025-08-05T01:00:55.579Z', 'results': [{'generated_text': '                     {\\n  \"medications\": [\\n    {\\n      \"name\": \"타우린\",\\n      \"frequency\": 1,\\n      \"times\": [\"18:00\"],\\n      \"original_text\": \"3일동안 저녁에 타우린 먹어야해\"\\n    }\\n  ],\\n  \"calendar_events\": [\\n    {\\n      \"summary\": \"💊 타우린 복용\",\\n      \"description\": \"약물: 타우린\\\\n복용 시간: 18:00\\\\n⚠️ 정확한 시간에 복용하세요!\",\\n      \"start\": {\\n        \"dateTime\": \"2025-08-03T18:00:00+09:00\",\\n        \"timeZone\": \"Asia/Seoul\"\\n      },\\n      \"end\": {\\n        \"dateTime\": \"2025-08-03T18:30:00+09:00\",\\n        \"timeZone\": \"Asia/Seoul\"\\n      },\\n      \"recurrence\": [\\n        \"RRULE:FREQ=DAILY;COUNT=3\"\\n      ],\\n      \"reminders\": {\\n        \"useDefault\": false,\\n        \"overrides\": [\\n          {\"method\": \"popup\", \"minutes\": 10},\\n          {\"method\": \"popup\", \"minutes\": 0}\\n        ]\\n      }\\n    }\\n  ],\\n  \"schedule_info\": {\\n    \"start_date\": \"2025-08-03\",\\n    \"duration_days\": 3,\\n    \"total_events\": 1\\n  }\\n}\\n일정끝', 'generated_token_count': 422, 'input_token_count': 13972, 'stop_reason': 'stop_sequence', 'seed': 0}], 'system': {'warnings': [{'message': 'This model is a Non-IBM Product governed by a third-party license that may impose use restrictions and other obligations. By using this model you agree to its terms as identified in the following URL.', 'id': 'disclaimer_warning', 'more_info': 'https://dataplatform.cloud.ibm.com/docs/content/wsj/analyze-data/fm-models.html?context=wx'}, {'message': \"Model 'mistralai/mistral-large' is in deprecated state from 2025-07-09. It will be in withdrawn state from 2025-10-08. IDs of alternative models: mistralai/mistral-medium-2505.\", 'id': 'deprecation_warning', 'more_info': 'https://dataplatform.cloud.ibm.com/docs/content/wsj/analyze-data/fm-model-lifecycle.html?context=wx&audience=wdp'}, {'message': 'In future implementation, the parameter `parameters.decoding_method` will be ignored and set automatically', 'id': 'param_deprecation'}]}}\n",
      "input : 3일동안 저녁에 타우린 먹어야해\n",
      "Output :                     {\n",
      "  \"medications\": [\n",
      "    {\n",
      "      \"name\": \"타우린\",\n",
      "      \"frequency\": 1,\n",
      "      \"times\": [\"18:00\"],\n",
      "      \"original_text\": \"3일동안 저녁에 타우린 먹어야해\"\n",
      "    }\n",
      "  ],\n",
      "  \"calendar_events\": [\n",
      "    {\n",
      "      \"summary\": \"💊 타우린 복용\",\n",
      "      \"description\": \"약물: 타우린\\n복용 시간: 18:00\\n⚠️ 정확한 시간에 복용하세요!\",\n",
      "      \"start\": {\n",
      "        \"dateTime\": \"2025-08-03T18:00:00+09:00\",\n",
      "        \"timeZone\": \"Asia/Seoul\"\n",
      "      },\n",
      "      \"end\": {\n",
      "        \"dateTime\": \"2025-08-03T18:30:00+09:00\",\n",
      "        \"timeZone\": \"Asia/Seoul\"\n",
      "      },\n",
      "      \"recurrence\": [\n",
      "        \"RRULE:FREQ=DAILY;COUNT=3\"\n",
      "      ],\n",
      "      \"reminders\": {\n",
      "        \"useDefault\": false,\n",
      "        \"overrides\": [\n",
      "          {\"method\": \"popup\", \"minutes\": 10},\n",
      "          {\"method\": \"popup\", \"minutes\": 0}\n",
      "        ]\n",
      "      }\n",
      "    }\n",
      "  ],\n",
      "  \"schedule_info\": {\n",
      "    \"start_date\": \"2025-08-03\",\n",
      "    \"duration_days\": 3,\n",
      "    \"total_events\": 1\n",
      "  }\n",
      "}\n",
      "일정끝\n"
     ]
    }
   ],
   "source": [
    "import requests\n",
    "import json\n",
    "\n",
    "# IBM Cloud API Key를 사용하여 토큰 발급\n",
    "token_response = requests.post(\n",
    "    'https://iam.cloud.ibm.com/identity/token',\n",
    "    data={\n",
    "        \"apikey\": api_key,\n",
    "        \"grant_type\": 'urn:ibm:params:oauth:grant-type:apikey'\n",
    "    }\n",
    ")\n",
    "mltoken = token_response.json().get(\"access_token\")\n",
    "if not mltoken:\n",
    "    raise Exception(\"토큰 발급 실패!\")\n",
    "\n",
    "headers = {\n",
    "    'Content-Type': 'application/json',\n",
    "    'Authorization': f'Bearer {mltoken}',\n",
    "    'Accept': 'application/json'  # JSON 응답\n",
    "}\n",
    "\n",
    "payload_scoring = {\n",
    "    \"parameters\": \n",
    "        {\n",
    "            \"prompt_variables\": \n",
    "            {\n",
    "                \"default\" : user_input\n",
    "            }\n",
    "        }\n",
    "    \n",
    "}\n",
    "\n",
    "response = requests.post(\n",
    "    ibm_ai_service_url,\n",
    "    headers=headers,\n",
    "    json=payload_scoring,\n",
    "    stream=False\n",
    ")\n",
    "\n",
    "\n",
    "print(\"=== 응답 결과 ===\")\n",
    "if response.status_code == 200:\n",
    "    result = response.json()\n",
    "    print(result)\n",
    "    \n",
    "    # generated_text 추출\n",
    "    if 'results' in result and len(result['results']) > 0:\n",
    "        generated_text = result['results'][0]['generated_text']\n",
    "        first_line = generated_text.split('\\n\\nInput')[0]\n",
    "        \n",
    "        print(\"input : \" + user_input)\n",
    "        print(\"Output :\" + first_line)\n",
    "    else:\n",
    "        print(\"응답에서 결과를 찾을 수 없습니다.\")\n",
    "else:\n",
    "    print(f\"오류 발생: {response.status_code}\")\n",
    "    print(response.text)\n"
   ]
  }
 ],
 "metadata": {
  "kernelspec": {
   "display_name": "ibm",
   "language": "python",
   "name": "python3"
  },
  "language_info": {
   "codemirror_mode": {
    "name": "ipython",
    "version": 3
   },
   "file_extension": ".py",
   "mimetype": "text/x-python",
   "name": "python",
   "nbconvert_exporter": "python",
   "pygments_lexer": "ipython3",
   "version": "3.11.9"
  }
 },
 "nbformat": 4,
 "nbformat_minor": 5
}
