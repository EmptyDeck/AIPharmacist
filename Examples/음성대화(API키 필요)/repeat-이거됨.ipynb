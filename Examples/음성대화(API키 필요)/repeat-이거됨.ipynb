{
 "cells": [
  {
   "cell_type": "code",
   "execution_count": 2,
   "id": "40096ad7",
   "metadata": {},
   "outputs": [
    {
     "name": "stdout",
     "output_type": "stream",
     "text": [
      "TTS 음성 파일 저장 완료: ouput.wav\n"
     ]
    }
   ],
   "source": [
    "import requests\n",
    "import os\n",
    "from dotenv import load_dotenv\n",
    "\n",
    "# .env 파일의 설정 불러오기\n",
    "load_dotenv()\n",
    "\n",
    "# 환경변수에서 API Key와 URL 불러오기\n",
    "TTS_API_KEY = os.getenv('TTS_API_KEY')\n",
    "TTS_URL = os.getenv('TTS_URL')\n",
    "STT_API_KEY = os.getenv('STT_API_KEY')\n",
    "STT_URL = os.getenv('STT_URL')\n",
    "\n",
    "# 변환할 텍스트\n",
    "korean_text = \"안녕하세요, 음성 합성 및 인식 데모입니다.\"\n",
    "\n",
    "# 1. TTS(텍스트 → 음성)\n",
    "tts_headers = {\n",
    "    'Content-Type': 'application/json',\n",
    "    'Accept': 'audio/wav'\n",
    "}\n",
    "tts_data = {\n",
    "    'text': korean_text\n",
    "}\n",
    "tts_voice = 'ko-KR_JinV3Voice'\n",
    "tts_endpoint = f\"{TTS_URL}/v1/synthesize?voice={tts_voice}\"\n",
    "\n",
    "tts_response = requests.post(\n",
    "    tts_endpoint,\n",
    "    headers=tts_headers,\n",
    "    json=tts_data,\n",
    "    auth=('apikey', TTS_API_KEY)\n",
    ")\n",
    "\n",
    "if tts_response.status_code == 200:\n",
    "    audio_file_path = \"ouput.wav\"\n",
    "    with open(audio_file_path, 'wb') as f:\n",
    "        f.write(tts_response.content)\n",
    "    print(\"TTS 음성 파일 저장 완료:\", audio_file_path)\n",
    "else:\n",
    "    print(\"TTS 오류:\", tts_response.status_code, tts_response.text)\n",
    "    exit()\n"
   ]
  },
  {
   "cell_type": "code",
   "execution_count": 4,
   "id": "497e2f49",
   "metadata": {},
   "outputs": [
    {
     "name": "stdout",
     "output_type": "stream",
     "text": [
      "STT 인식 결과: 안녕하세요 음성 합성 및 인식 때문입니다 \n"
     ]
    }
   ],
   "source": [
    "# 2. STT(음성 → 텍스트)\n",
    "stt_headers = {\n",
    "    'Content-Type': 'audio/wav',\n",
    "    'Accept': 'application/json'\n",
    "}\n",
    "stt_model = \"ko-KR_BroadbandModel\"\n",
    "stt_endpoint = f\"{STT_URL}/v1/recognize?model={stt_model}\"\n",
    "\n",
    "with open(audio_file_path, 'rb') as audio:\n",
    "    stt_response = requests.post(\n",
    "        stt_endpoint,\n",
    "        headers=stt_headers,\n",
    "        data=audio,\n",
    "        auth=('apikey', STT_API_KEY)\n",
    "    )\n",
    "\n",
    "if stt_response.status_code == 200:\n",
    "    result_json = stt_response.json()\n",
    "    # 인식된 텍스트 추출 (가장 마지막 transcript만)\n",
    "    recognized = result_json.get('results', [])\n",
    "    if recognized:\n",
    "        stt_text = recognized[0]['alternatives'][0]['transcript']\n",
    "        print(\"STT 인식 결과:\", stt_text)\n",
    "    else:\n",
    "        print(\"STT 인식 결과가 없습니다.\", result_json)\n",
    "else:\n",
    "    print(\"STT 오류:\", stt_response.status_code, stt_response.text)"
   ]
  }
 ],
 "metadata": {
  "kernelspec": {
   "display_name": "ibm",
   "language": "python",
   "name": "python3"
  },
  "language_info": {
   "codemirror_mode": {
    "name": "ipython",
    "version": 3
   },
   "file_extension": ".py",
   "mimetype": "text/x-python",
   "name": "python",
   "nbconvert_exporter": "python",
   "pygments_lexer": "ipython3",
   "version": "3.11.9"
  }
 },
 "nbformat": 4,
 "nbformat_minor": 5
}
