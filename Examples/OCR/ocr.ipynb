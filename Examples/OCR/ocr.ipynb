{
 "cells": [
  {
   "cell_type": "code",
   "execution_count": 1,
   "id": "bf0cb620",
   "metadata": {},
   "outputs": [
    {
     "name": "stdout",
     "output_type": "stream",
     "text": [
      "F) chat propmt.txt - windows 0123} = ia} x\n",
      "ZA BBO AAO) Bly SSB)\n",
      "\n",
      "make a ai where you can talk\n",
      "\n",
      "1. text to speech:\n",
      "\n",
      "api : rotOpJjw9_ZpLAONO3fLDrH-gUuSaGUxs9PIFXVVhLXw\n",
      "\n",
      "ulr : https://api.us-south.text-to-speech.watson.cloud.ibm.com/instances/1b71d40c-a342-42db-be4d-f6d11b33e916\n",
      "\n",
      "ext to Speech A|ZfO}7|\n",
      "\n",
      "OA| SF SGO|] LM}: 2025-02-21\n",
      "\n",
      "IBM Watson® Text to Speech AH|AE Sel FASS AAC SSOS ASSO} oSe|A/O| HO] BRs Ss HS 7lSsB ASSUC. Of curl 7/¢ FEASS ASA AAS USO]\n",
      "\n",
      "FE2| SHAS curl SSS FALE ASSO} REST AP] SBS A| SSUCh. For more information about curl, see Using curl with Watson examples.\n",
      "\n",
      "IBM Cloud Text to Speech A{H|% AlAfOl CHS! AJZHA} QS HAF CS wYCLOS Al PopUAlo.\n",
      "\n",
      "AAO} BO)\n",
      "IBM Cloud\n",
      "IBM Cloud\n",
      "FEASE API 7B ASO ASAUCL SSSA IAM SSS ASSUCH AAlSt USE IBM Cloud ASS}7|B FAA A.\n",
      "\n",
      "IBM Cloud Pak for Data\n",
      "IBM Cloud Pak for Data\n",
      "\n",
      "Text to Speech & SA/S¢l F-SeHOF O| FEASS AAS + RSUCL. AIS! SHE Watson SS AH|A(Cloud Pak for Data} FASUA|L.\n",
      "\n",
      "ft\n",
      "\n",
      "A Sc}0/AS, AP SE SSS AYMOAS ASO Aw|A AASAS BSCt. IBM Cl\n",
      "\n",
      "id Pak for Data Of AHA PAB AS gee Seo] Chet Ais! USS Watson BS MHIAS |\n",
      "\n",
      ">\n",
      "\n",
      "Ln 1, Colt 100% Windows (CRLF) —_UTF-8\n",
      "\n",
      "\n"
     ]
    }
   ],
   "source": [
    "import pytesseract\n",
    "from PIL import Image\n",
    "\n",
    "# Tesseract 경로 설정 (설치 후)\n",
    "pytesseract.pytesseract.tesseract_cmd = r'C:\\Program Files\\Tesseract-OCR\\tesseract.exe'\n",
    "\n",
    "# image.png 읽어서 텍스트 추출\n",
    "text = pytesseract.image_to_string(Image.open('image.png'))\n",
    "print(text)\n"
   ]
  }
 ],
 "metadata": {
  "kernelspec": {
   "display_name": "ibm",
   "language": "python",
   "name": "python3"
  },
  "language_info": {
   "codemirror_mode": {
    "name": "ipython",
    "version": 3
   },
   "file_extension": ".py",
   "mimetype": "text/x-python",
   "name": "python",
   "nbconvert_exporter": "python",
   "pygments_lexer": "ipython3",
   "version": "3.11.9"
  }
 },
 "nbformat": 4,
 "nbformat_minor": 5
}
