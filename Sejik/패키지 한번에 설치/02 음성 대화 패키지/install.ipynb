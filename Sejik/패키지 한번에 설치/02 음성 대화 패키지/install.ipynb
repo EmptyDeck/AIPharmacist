{
 "cells": [
  {
   "cell_type": "code",
   "execution_count": null,
   "id": "0a7ee852",
   "metadata": {},
   "outputs": [],
   "source": [
    "import subprocess\n",
    "\n",
    "requirements_file = \"requirements.txt\"\n",
    "\n",
    "with open(requirements_file, \"r\") as reqs:\n",
    "    for line in reqs:\n",
    "        pkg = line.strip()\n",
    "        # Skip empty lines and comments\n",
    "        if not pkg or pkg.startswith(\"#\"):\n",
    "            continue\n",
    "        print(f\"Installing: {pkg}\")\n",
    "        try:\n",
    "            subprocess.check_call([\"pip\", \"install\", pkg])\n",
    "        except subprocess.CalledProcessError:\n",
    "            print(f\"WARNING: Failed to install {pkg}\")\n"
   ]
  }
 ],
 "metadata": {
  "kernelspec": {
   "display_name": "ibm",
   "language": "python",
   "name": "python3"
  },
  "language_info": {
   "codemirror_mode": {
    "name": "ipython",
    "version": 3
   },
   "file_extension": ".py",
   "mimetype": "text/x-python",
   "name": "python",
   "nbconvert_exporter": "python",
   "pygments_lexer": "ipython3",
   "version": "3.11.9"
  }
 },
 "nbformat": 4,
 "nbformat_minor": 5
}
