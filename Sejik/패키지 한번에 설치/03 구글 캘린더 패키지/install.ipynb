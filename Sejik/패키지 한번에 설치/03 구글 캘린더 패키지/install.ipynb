{
 "cells": [
  {
   "cell_type": "code",
   "execution_count": 1,
   "id": "0a7ee852",
   "metadata": {},
   "outputs": [
    {
     "name": "stdout",
     "output_type": "stream",
     "text": [
      "Installing: pytz\n",
      "Requirement already satisfied: pytz in /Users/owo/anaconda3/envs/ibm/lib/python3.11/site-packages (2025.2)\n",
      "Installing: flask\n",
      "Requirement already satisfied: flask in /Users/owo/anaconda3/envs/ibm/lib/python3.11/site-packages (3.1.1)\n",
      "Requirement already satisfied: blinker>=1.9.0 in /Users/owo/anaconda3/envs/ibm/lib/python3.11/site-packages (from flask) (1.9.0)\n",
      "Requirement already satisfied: click>=8.1.3 in /Users/owo/anaconda3/envs/ibm/lib/python3.11/site-packages (from flask) (8.2.1)\n",
      "Requirement already satisfied: itsdangerous>=2.2.0 in /Users/owo/anaconda3/envs/ibm/lib/python3.11/site-packages (from flask) (2.2.0)\n",
      "Requirement already satisfied: jinja2>=3.1.2 in /Users/owo/anaconda3/envs/ibm/lib/python3.11/site-packages (from flask) (3.1.6)\n",
      "Requirement already satisfied: markupsafe>=2.1.1 in /Users/owo/anaconda3/envs/ibm/lib/python3.11/site-packages (from flask) (3.0.2)\n",
      "Requirement already satisfied: werkzeug>=3.1.0 in /Users/owo/anaconda3/envs/ibm/lib/python3.11/site-packages (from flask) (3.1.3)\n",
      "Installing: google-auth\n",
      "Requirement already satisfied: google-auth in /Users/owo/anaconda3/envs/ibm/lib/python3.11/site-packages (2.40.3)\n",
      "Requirement already satisfied: cachetools<6.0,>=2.0.0 in /Users/owo/anaconda3/envs/ibm/lib/python3.11/site-packages (from google-auth) (5.5.2)\n",
      "Requirement already satisfied: pyasn1-modules>=0.2.1 in /Users/owo/anaconda3/envs/ibm/lib/python3.11/site-packages (from google-auth) (0.4.2)\n",
      "Requirement already satisfied: rsa<5,>=3.1.4 in /Users/owo/anaconda3/envs/ibm/lib/python3.11/site-packages (from google-auth) (4.9.1)\n",
      "Requirement already satisfied: pyasn1>=0.1.3 in /Users/owo/anaconda3/envs/ibm/lib/python3.11/site-packages (from rsa<5,>=3.1.4->google-auth) (0.6.1)\n",
      "Installing: google-auth-oauthlib\n",
      "Requirement already satisfied: google-auth-oauthlib in /Users/owo/anaconda3/envs/ibm/lib/python3.11/site-packages (1.2.2)\n",
      "Requirement already satisfied: google-auth>=2.15.0 in /Users/owo/anaconda3/envs/ibm/lib/python3.11/site-packages (from google-auth-oauthlib) (2.40.3)\n",
      "Requirement already satisfied: requests-oauthlib>=0.7.0 in /Users/owo/anaconda3/envs/ibm/lib/python3.11/site-packages (from google-auth-oauthlib) (2.0.0)\n",
      "Requirement already satisfied: cachetools<6.0,>=2.0.0 in /Users/owo/anaconda3/envs/ibm/lib/python3.11/site-packages (from google-auth>=2.15.0->google-auth-oauthlib) (5.5.2)\n",
      "Requirement already satisfied: pyasn1-modules>=0.2.1 in /Users/owo/anaconda3/envs/ibm/lib/python3.11/site-packages (from google-auth>=2.15.0->google-auth-oauthlib) (0.4.2)\n",
      "Requirement already satisfied: rsa<5,>=3.1.4 in /Users/owo/anaconda3/envs/ibm/lib/python3.11/site-packages (from google-auth>=2.15.0->google-auth-oauthlib) (4.9.1)\n",
      "Requirement already satisfied: pyasn1>=0.1.3 in /Users/owo/anaconda3/envs/ibm/lib/python3.11/site-packages (from rsa<5,>=3.1.4->google-auth>=2.15.0->google-auth-oauthlib) (0.6.1)\n",
      "Requirement already satisfied: oauthlib>=3.0.0 in /Users/owo/anaconda3/envs/ibm/lib/python3.11/site-packages (from requests-oauthlib>=0.7.0->google-auth-oauthlib) (3.3.1)\n",
      "Requirement already satisfied: requests>=2.0.0 in /Users/owo/anaconda3/envs/ibm/lib/python3.11/site-packages (from requests-oauthlib>=0.7.0->google-auth-oauthlib) (2.32.2)\n",
      "Requirement already satisfied: charset-normalizer<4,>=2 in /Users/owo/anaconda3/envs/ibm/lib/python3.11/site-packages (from requests>=2.0.0->requests-oauthlib>=0.7.0->google-auth-oauthlib) (3.4.2)\n",
      "Requirement already satisfied: idna<4,>=2.5 in /Users/owo/anaconda3/envs/ibm/lib/python3.11/site-packages (from requests>=2.0.0->requests-oauthlib>=0.7.0->google-auth-oauthlib) (3.10)\n",
      "Requirement already satisfied: urllib3<3,>=1.21.1 in /Users/owo/anaconda3/envs/ibm/lib/python3.11/site-packages (from requests>=2.0.0->requests-oauthlib>=0.7.0->google-auth-oauthlib) (2.5.0)\n",
      "Requirement already satisfied: certifi>=2017.4.17 in /Users/owo/anaconda3/envs/ibm/lib/python3.11/site-packages (from requests>=2.0.0->requests-oauthlib>=0.7.0->google-auth-oauthlib) (2025.6.15)\n",
      "Installing: google-api-python-client\n",
      "Requirement already satisfied: google-api-python-client in /Users/owo/anaconda3/envs/ibm/lib/python3.11/site-packages (2.177.0)\n",
      "Requirement already satisfied: httplib2<1.0.0,>=0.19.0 in /Users/owo/anaconda3/envs/ibm/lib/python3.11/site-packages (from google-api-python-client) (0.22.0)\n",
      "Requirement already satisfied: google-auth!=2.24.0,!=2.25.0,<3.0.0,>=1.32.0 in /Users/owo/anaconda3/envs/ibm/lib/python3.11/site-packages (from google-api-python-client) (2.40.3)\n",
      "Requirement already satisfied: google-auth-httplib2<1.0.0,>=0.2.0 in /Users/owo/anaconda3/envs/ibm/lib/python3.11/site-packages (from google-api-python-client) (0.2.0)\n",
      "Requirement already satisfied: google-api-core!=2.0.*,!=2.1.*,!=2.2.*,!=2.3.0,<3.0.0,>=1.31.5 in /Users/owo/anaconda3/envs/ibm/lib/python3.11/site-packages (from google-api-python-client) (2.25.1)\n",
      "Requirement already satisfied: uritemplate<5,>=3.0.1 in /Users/owo/anaconda3/envs/ibm/lib/python3.11/site-packages (from google-api-python-client) (4.2.0)\n",
      "Requirement already satisfied: googleapis-common-protos<2.0.0,>=1.56.2 in /Users/owo/anaconda3/envs/ibm/lib/python3.11/site-packages (from google-api-core!=2.0.*,!=2.1.*,!=2.2.*,!=2.3.0,<3.0.0,>=1.31.5->google-api-python-client) (1.70.0)\n",
      "Requirement already satisfied: protobuf!=3.20.0,!=3.20.1,!=4.21.0,!=4.21.1,!=4.21.2,!=4.21.3,!=4.21.4,!=4.21.5,<7.0.0,>=3.19.5 in /Users/owo/anaconda3/envs/ibm/lib/python3.11/site-packages (from google-api-core!=2.0.*,!=2.1.*,!=2.2.*,!=2.3.0,<3.0.0,>=1.31.5->google-api-python-client) (5.29.5)\n",
      "Requirement already satisfied: proto-plus<2.0.0,>=1.22.3 in /Users/owo/anaconda3/envs/ibm/lib/python3.11/site-packages (from google-api-core!=2.0.*,!=2.1.*,!=2.2.*,!=2.3.0,<3.0.0,>=1.31.5->google-api-python-client) (1.26.1)\n",
      "Requirement already satisfied: requests<3.0.0,>=2.18.0 in /Users/owo/anaconda3/envs/ibm/lib/python3.11/site-packages (from google-api-core!=2.0.*,!=2.1.*,!=2.2.*,!=2.3.0,<3.0.0,>=1.31.5->google-api-python-client) (2.32.2)\n",
      "Requirement already satisfied: cachetools<6.0,>=2.0.0 in /Users/owo/anaconda3/envs/ibm/lib/python3.11/site-packages (from google-auth!=2.24.0,!=2.25.0,<3.0.0,>=1.32.0->google-api-python-client) (5.5.2)\n",
      "Requirement already satisfied: pyasn1-modules>=0.2.1 in /Users/owo/anaconda3/envs/ibm/lib/python3.11/site-packages (from google-auth!=2.24.0,!=2.25.0,<3.0.0,>=1.32.0->google-api-python-client) (0.4.2)\n",
      "Requirement already satisfied: rsa<5,>=3.1.4 in /Users/owo/anaconda3/envs/ibm/lib/python3.11/site-packages (from google-auth!=2.24.0,!=2.25.0,<3.0.0,>=1.32.0->google-api-python-client) (4.9.1)\n",
      "Requirement already satisfied: pyparsing!=3.0.0,!=3.0.1,!=3.0.2,!=3.0.3,<4,>=2.4.2 in /Users/owo/anaconda3/envs/ibm/lib/python3.11/site-packages (from httplib2<1.0.0,>=0.19.0->google-api-python-client) (3.2.3)\n",
      "Requirement already satisfied: charset-normalizer<4,>=2 in /Users/owo/anaconda3/envs/ibm/lib/python3.11/site-packages (from requests<3.0.0,>=2.18.0->google-api-core!=2.0.*,!=2.1.*,!=2.2.*,!=2.3.0,<3.0.0,>=1.31.5->google-api-python-client) (3.4.2)\n",
      "Requirement already satisfied: idna<4,>=2.5 in /Users/owo/anaconda3/envs/ibm/lib/python3.11/site-packages (from requests<3.0.0,>=2.18.0->google-api-core!=2.0.*,!=2.1.*,!=2.2.*,!=2.3.0,<3.0.0,>=1.31.5->google-api-python-client) (3.10)\n",
      "Requirement already satisfied: urllib3<3,>=1.21.1 in /Users/owo/anaconda3/envs/ibm/lib/python3.11/site-packages (from requests<3.0.0,>=2.18.0->google-api-core!=2.0.*,!=2.1.*,!=2.2.*,!=2.3.0,<3.0.0,>=1.31.5->google-api-python-client) (2.5.0)\n",
      "Requirement already satisfied: certifi>=2017.4.17 in /Users/owo/anaconda3/envs/ibm/lib/python3.11/site-packages (from requests<3.0.0,>=2.18.0->google-api-core!=2.0.*,!=2.1.*,!=2.2.*,!=2.3.0,<3.0.0,>=1.31.5->google-api-python-client) (2025.6.15)\n",
      "Requirement already satisfied: pyasn1>=0.1.3 in /Users/owo/anaconda3/envs/ibm/lib/python3.11/site-packages (from rsa<5,>=3.1.4->google-auth!=2.24.0,!=2.25.0,<3.0.0,>=1.32.0->google-api-python-client) (0.6.1)\n",
      "Installing: python-dotenv\n",
      "Requirement already satisfied: python-dotenv in /Users/owo/anaconda3/envs/ibm/lib/python3.11/site-packages (1.1.0)\n"
     ]
    }
   ],
   "source": [
    "import subprocess\n",
    "\n",
    "requirements_file = \"requirements.txt\"\n",
    "\n",
    "with open(requirements_file, \"r\") as reqs:\n",
    "    for line in reqs:\n",
    "        pkg = line.strip()\n",
    "        # Skip empty lines and comments\n",
    "        if not pkg or pkg.startswith(\"#\"):\n",
    "            continue\n",
    "        print(f\"Installing: {pkg}\")\n",
    "        try:\n",
    "            subprocess.check_call([\"pip\", \"install\", pkg])\n",
    "        except subprocess.CalledProcessError:\n",
    "            print(f\"WARNING: Failed to install {pkg}\")\n"
   ]
  }
 ],
 "metadata": {
  "kernelspec": {
   "display_name": "ibm",
   "language": "python",
   "name": "python3"
  },
  "language_info": {
   "codemirror_mode": {
    "name": "ipython",
    "version": 3
   },
   "file_extension": ".py",
   "mimetype": "text/x-python",
   "name": "python",
   "nbconvert_exporter": "python",
   "pygments_lexer": "ipython3",
   "version": "3.11.9"
  }
 },
 "nbformat": 4,
 "nbformat_minor": 5
}
