{
 "cells": [
  {
   "cell_type": "code",
   "execution_count": 1,
   "id": "7bb3a4b9",
   "metadata": {},
   "outputs": [],
   "source": [
    "!pip install --quiet google-auth-oauthlib google-api-python-client pytz"
   ]
  },
  {
   "cell_type": "code",
   "execution_count": 3,
   "id": "de57fab9",
   "metadata": {},
   "outputs": [
    {
     "name": "stdout",
     "output_type": "stream",
     "text": [
      "Please visit this URL to authorize this application: https://accounts.google.com/o/oauth2/auth?response_type=code&client_id=106848342601-aqmulkh2bh8j8dirljuqgbtb9t9up57v.apps.googleusercontent.com&redirect_uri=http%3A%2F%2Flocalhost%3A5168%2F&scope=https%3A%2F%2Fwww.googleapis.com%2Fauth%2Fcalendar&state=KiPS2s5YOZfaX70RCDzmbo0sKUcSc1&access_type=offline\n",
      "✅ 토큰 발급 완료\n"
     ]
    }
   ],
   "source": [
    "import datetime, pytz\n",
    "from google_auth_oauthlib.flow import InstalledAppFlow\n",
    "from googleapiclient.discovery import build\n",
    "\n",
    "# OAuth 범위 – 일정 쓰기\n",
    "SCOPES = ['https://www.googleapis.com/auth/calendar']\n",
    "\n",
    "# credentials.json 파일은 cal_agent.py 와 같은 폴더(혹은 여기에 지정한 경로)에 있어야 합니다.\n",
    "flow = InstalledAppFlow.from_client_secrets_file(\n",
    "    'credentials.json', SCOPES\n",
    ")\n",
    "\n",
    "# 브라우저가 열리며 구글 로그인 → 동의 → 토큰 생성\n",
    "creds = flow.run_local_server(port=0)\n",
    "print(\"✅ 토큰 발급 완료\")\n"
   ]
  },
  {
   "cell_type": "code",
   "execution_count": 4,
   "id": "7feda91b",
   "metadata": {},
   "outputs": [
    {
     "name": "stdout",
     "output_type": "stream",
     "text": [
      "🎉 생성 완료!\n",
      " • ID    : itk3e18u3itv2sd84h46nbjn7s\n",
      " • 링크  : https://www.google.com/calendar/event?eid=aXRrM2UxOHUzaXR2MnNkODRoNDZuYmpuN3MgaW1zZWppa3BhcmtAbQ\n",
      " • 제목  : 🤖 Jupyter-테스트 이벤트\n",
      " • 시작  : 2025-08-07T15:00:00+09:00\n"
     ]
    }
   ],
   "source": [
    "from googleapiclient.discovery import build\n",
    "from datetime import timedelta\n",
    "\n",
    "service = build('calendar', 'v3', credentials=creds)\n",
    "\n",
    "korea_tz = pytz.timezone('Asia/Seoul')\n",
    "start_dt = korea_tz.localize(datetime.datetime.now().replace(minute=0, second=0, microsecond=0) + timedelta(hours=1))\n",
    "end_dt   = start_dt + timedelta(minutes=30)\n",
    "\n",
    "event_body = {\n",
    "    'summary': '🤖 Jupyter-테스트 이벤트',\n",
    "    'description': 'agent.ipynb 에서 추가한 단순 테스트 일정',\n",
    "    'start': {\n",
    "        'dateTime': start_dt.isoformat(),\n",
    "        'timeZone': 'Asia/Seoul',\n",
    "    },\n",
    "    'end': {\n",
    "        'dateTime': end_dt.isoformat(),\n",
    "        'timeZone': 'Asia/Seoul',\n",
    "    },\n",
    "    # 필요하면 알림·반복 규칙 등 추가 가능\n",
    "}\n",
    "\n",
    "created = service.events().insert(calendarId='primary', body=event_body).execute()\n",
    "print(\"🎉 생성 완료!\")\n",
    "print(f\" • ID    : {created['id']}\")\n",
    "print(f\" • 링크  : {created['htmlLink']}\")\n",
    "print(f\" • 제목  : {created['summary']}\")\n",
    "print(f\" • 시작  : {created['start']['dateTime']}\")\n"
   ]
  }
 ],
 "metadata": {
  "kernelspec": {
   "display_name": "ibm",
   "language": "python",
   "name": "python3"
  },
  "language_info": {
   "codemirror_mode": {
    "name": "ipython",
    "version": 3
   },
   "file_extension": ".py",
   "mimetype": "text/x-python",
   "name": "python",
   "nbconvert_exporter": "python",
   "pygments_lexer": "ipython3",
   "version": "3.11.9"
  }
 },
 "nbformat": 4,
 "nbformat_minor": 5
}
