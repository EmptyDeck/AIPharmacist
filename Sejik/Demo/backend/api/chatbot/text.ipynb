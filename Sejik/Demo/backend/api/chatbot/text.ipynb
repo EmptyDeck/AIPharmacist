{
 "cells": [
  {
   "cell_type": "code",
   "execution_count": null,
   "id": "ad66d258",
   "metadata": {},
   "outputs": [
    {
     "name": "stdout",
     "output_type": "stream",
     "text": [
      "The sky is blue due to a phenomenon called **Rayleigh scattering**. Here's a breakdown:\n",
      "\n",
      "*   **Sunlight is white:** Sunlight is actually made up of all the colors of the rainbow.\n",
      "\n",
      "*   **Entering the Atmosphere:** When sunlight enters the Earth's atmosphere, it collides with tiny air molecules (mostly nitrogen and oxygen).\n",
      "\n",
      "*   **Scattering of Light:** This collision causes the sunlight to scatter in different directions.\n",
      "\n",
      "*   **Rayleigh Scattering is Key:** Rayleigh scattering refers to the scattering of electromagnetic radiation (including light) by particles of a much smaller wavelength.\n",
      "\n",
      "*   **Shorter Wavelengths Scatter More:** Shorter wavelengths of light (like blue and violet) are scattered much more strongly than longer wavelengths (like red and orange). This is because the amount of scattering is inversely proportional to the fourth power of the wavelength. (Shorter wavelength = higher scattering)\n",
      "\n",
      "*   **Why Blue and Not Violet?** Violet light is scattered even more than blue light. However, there are a couple of reasons why we see a blue sky:\n",
      "    *   The sun emits less violet light than blue light.\n",
      "    *   Our eyes are more sensitive to blue light than violet light.\n",
      "\n",
      "*   **The Result:** As a result of all this, blue light is scattered all over the sky. When we look up, we see this scattered blue light coming from all directions, making the sky appear blue.\n",
      "\n",
      "**In summary:** The sky is blue because blue light from the sun is scattered more by the atmosphere than other colors.\n",
      "\n"
     ]
    }
   ],
   "source": [
    "from google import genai\n",
    "\n",
    "client = genai.Client(api_key=\"\")\n",
    "response = client.models.generate_content(\n",
    "    model=\"gemini-2.0-flash-001\",\n",
    "    contents=\"Why is the sky blue?\"\n",
    ")\n",
    "print(response.text)\n"
   ]
  },
  {
   "cell_type": "code",
   "execution_count": null,
   "id": "670532c6",
   "metadata": {},
   "outputs": [
    {
     "ename": "ImportError",
     "evalue": "cannot import name 'generate_content' from 'google.generativeai' (/Users/owo/anaconda3/envs/ibm/lib/python3.11/site-packages/google/generativeai/__init__.py)",
     "output_type": "error",
     "traceback": [
      "\u001b[31m---------------------------------------------------------------------------\u001b[39m",
      "\u001b[31mImportError\u001b[39m                               Traceback (most recent call last)",
      "\u001b[36mCell\u001b[39m\u001b[36m \u001b[39m\u001b[32mIn[1]\u001b[39m\u001b[32m, line 3\u001b[39m\n\u001b[32m      1\u001b[39m \u001b[38;5;66;03m# calendarAI_test.py\u001b[39;00m\n\u001b[32m      2\u001b[39m \u001b[38;5;28;01mimport\u001b[39;00m\u001b[38;5;250m \u001b[39m\u001b[34;01mos\u001b[39;00m\n\u001b[32m----> \u001b[39m\u001b[32m3\u001b[39m \u001b[38;5;28;01mfrom\u001b[39;00m\u001b[38;5;250m \u001b[39m\u001b[34;01mgoogle\u001b[39;00m\u001b[34;01m.\u001b[39;00m\u001b[34;01mgenerativeai\u001b[39;00m\u001b[38;5;250m \u001b[39m\u001b[38;5;28;01mimport\u001b[39;00m configure, generate_content\n\u001b[32m      5\u001b[39m \u001b[38;5;28;01mdef\u001b[39;00m\u001b[38;5;250m \u001b[39m\u001b[34mtest_genai_api\u001b[39m():\n\u001b[32m      6\u001b[39m     api_key = os.getenv(\u001b[33m\"\u001b[39m\u001b[33mGEMINI_API_KEY\u001b[39m\u001b[33m\"\u001b[39m)\n",
      "\u001b[31mImportError\u001b[39m: cannot import name 'generate_content' from 'google.generativeai' (/Users/owo/anaconda3/envs/ibm/lib/python3.11/site-packages/google/generativeai/__init__.py)"
     ]
    }
   ],
   "source": [
    "# calendarAI_test.py\n",
    "import os\n",
    "from google.generativeai import configure, generate_content\n",
    "\n",
    "def test_genai_api():\n",
    "    api_key = os.getenv(\"GEMINI_API_KEY\")\n",
    "    if not api_key:\n",
    "        raise ValueError(\"환경변수 GEMINI_API_KEY가 설정되어 있지 않습니다.\")\n",
    "\n",
    "    configure(api_key=api_key)\n",
    "    model_id = \"gemini-2.0-flash-001\"  # 또는 사용 가능한 최신 모델명\n",
    "\n",
    "    prompt = \"타이레놀 500mg을 하루 2번 3일간 복용해야 합니까?\"\n",
    "\n",
    "    try:\n",
    "        response = generate_content(\n",
    "            model=model_id,\n",
    "            contents=prompt\n",
    "        )\n",
    "        print(f\"Gemini 응답: {response.text.strip()}\")\n",
    "        return True\n",
    "    except Exception as e:\n",
    "        print(f\"Gemini API 호출 실패: {e}\")\n",
    "        return False\n",
    "\n",
    "if __name__ == \"__main__\":\n",
    "    print(\"\\nGoogle Gemini 연동 실제 호출 테스트\")\n",
    "    success = test_genai_api()\n",
    "    print(\"==> Gemini 연동 테스트:\", \"성공\" if success else \"실패\")\n"
   ]
  }
 ],
 "metadata": {
  "kernelspec": {
   "display_name": "ibm",
   "language": "python",
   "name": "python3"
  },
  "language_info": {
   "codemirror_mode": {
    "name": "ipython",
    "version": 3
   },
   "file_extension": ".py",
   "mimetype": "text/x-python",
   "name": "python",
   "nbconvert_exporter": "python",
   "pygments_lexer": "ipython3",
   "version": "3.11.9"
  }
 },
 "nbformat": 4,
 "nbformat_minor": 5
}
