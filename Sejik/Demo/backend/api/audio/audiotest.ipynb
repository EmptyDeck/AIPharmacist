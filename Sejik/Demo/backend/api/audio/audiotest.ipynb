{
 "cells": [
  {
   "cell_type": "code",
   "execution_count": 2,
   "id": "0a357a5e",
   "metadata": {},
   "outputs": [
    {
     "name": "stdout",
     "output_type": "stream",
     "text": [
      "service_account\n",
      "OK! 오디오 파일이 생성되었습니다.\n"
     ]
    }
   ],
   "source": [
    "# (필수) 서비스계정키가 맞는지 확인\n",
    "import json\n",
    "with open('gen-lang-client.json', 'r', encoding='utf-8') as f:\n",
    "    creds = json.load(f)\n",
    "print(creds['type'])\n",
    "# 출력이 반드시 'service_account' 여야 합니다!\n",
    "\n",
    "# 환경변수 등록\n",
    "import os\n",
    "os.environ['GOOGLE_APPLICATION_CREDENTIALS'] = 'gen-lang-client.json'\n",
    "\n",
    "# 설치가 안 되어 있다면\n",
    "# !pip install google-cloud-texttospeech\n",
    "\n",
    "from google.cloud import texttospeech\n",
    "\n",
    "client = texttospeech.TextToSpeechClient()\n",
    "\n",
    "synthesis_input = texttospeech.SynthesisInput(text=\"안녕하세요, 테스트용 구글 클라우드 TTS 입니다.\")\n",
    "\n",
    "voice = texttospeech.VoiceSelectionParams(\n",
    "    language_code=\"ko-KR\",\n",
    "    name=\"ko-KR-Standard-A\",\n",
    "    ssml_gender=texttospeech.SsmlVoiceGender.NEUTRAL\n",
    ")\n",
    "\n",
    "audio_config = texttospeech.AudioConfig(\n",
    "    audio_encoding=texttospeech.AudioEncoding.MP3\n",
    ")\n",
    "\n",
    "response = client.synthesize_speech(\n",
    "    input=synthesis_input,\n",
    "    voice=voice,\n",
    "    audio_config=audio_config\n",
    ")\n",
    "\n",
    "with open(\"test_output.mp3\", \"wb\") as out:\n",
    "    out.write(response.audio_content)\n",
    "print(\"OK! 오디오 파일이 생성되었습니다.\")\n"
   ]
  },
  {
   "cell_type": "code",
   "execution_count": 3,
   "id": "8db40fa5",
   "metadata": {},
   "outputs": [
    {
     "name": "stdout",
     "output_type": "stream",
     "text": [
      "ko-KR-Standard-A 생성 완료: ./temp/ko-KR-Standard-A.mp3\n",
      "ko-KR-Standard-B 생성 완료: ./temp/ko-KR-Standard-B.mp3\n",
      "ko-KR-Standard-C 생성 완료: ./temp/ko-KR-Standard-C.mp3\n",
      "ko-KR-Standard-D 생성 완료: ./temp/ko-KR-Standard-D.mp3\n",
      "ko-KR-Wavenet-A 생성 완료: ./temp/ko-KR-Wavenet-A.mp3\n",
      "ko-KR-Wavenet-B 생성 완료: ./temp/ko-KR-Wavenet-B.mp3\n",
      "ko-KR-Wavenet-C 생성 완료: ./temp/ko-KR-Wavenet-C.mp3\n",
      "ko-KR-Wavenet-D 생성 완료: ./temp/ko-KR-Wavenet-D.mp3\n",
      "ko-KR-Neural2-A 생성 완료: ./temp/ko-KR-Neural2-A.mp3\n",
      "ko-KR-Neural2-B 생성 완료: ./temp/ko-KR-Neural2-B.mp3\n",
      "ko-KR-Neural2-C 생성 완료: ./temp/ko-KR-Neural2-C.mp3\n",
      "ko-KR-Chirp3-HD-Aoede 생성 완료: ./temp/ko-KR-Chirp3-HD-Aoede.mp3\n",
      "ko-KR-Chirp3-HD-Charon 생성 완료: ./temp/ko-KR-Chirp3-HD-Charon.mp3\n",
      "ko-KR-Chirp3-HD-Fenrir 생성 완료: ./temp/ko-KR-Chirp3-HD-Fenrir.mp3\n",
      "ko-KR-Chirp3-HD-Kore 생성 완료: ./temp/ko-KR-Chirp3-HD-Kore.mp3\n",
      "ko-KR-Chirp3-HD-Leda 생성 완료: ./temp/ko-KR-Chirp3-HD-Leda.mp3\n",
      "ko-KR-Chirp3-HD-Orus 생성 완료: ./temp/ko-KR-Chirp3-HD-Orus.mp3\n",
      "ko-KR-Chirp3-HD-Puck 생성 완료: ./temp/ko-KR-Chirp3-HD-Puck.mp3\n",
      "ko-KR-Chirp3-HD-Zephyr 생성 완료: ./temp/ko-KR-Chirp3-HD-Zephyr.mp3\n"
     ]
    }
   ],
   "source": [
    "from google.cloud import texttospeech\n",
    "import os\n",
    "\n",
    "# 서비스 계정 키 파일 경로 (환경에 맞게 수정)\n",
    "os.environ['GOOGLE_APPLICATION_CREDENTIALS'] = \"./gen-lang-client.json\"\n",
    "\n",
    "output_dir = \"./temp\"\n",
    "os.makedirs(output_dir, exist_ok=True)\n",
    "\n",
    "voice_names = [\n",
    "    \"ko-KR-Standard-A\", \"ko-KR-Standard-B\", \"ko-KR-Standard-C\", \"ko-KR-Standard-D\",\n",
    "    \"ko-KR-Wavenet-A\", \"ko-KR-Wavenet-B\", \"ko-KR-Wavenet-C\", \"ko-KR-Wavenet-D\",\n",
    "    \"ko-KR-Neural2-A\", \"ko-KR-Neural2-B\", \"ko-KR-Neural2-C\",\n",
    "    \"ko-KR-Chirp3-HD-Aoede\", \"ko-KR-Chirp3-HD-Charon\", \"ko-KR-Chirp3-HD-Fenrir\",\n",
    "    \"ko-KR-Chirp3-HD-Kore\", \"ko-KR-Chirp3-HD-Leda\", \"ko-KR-Chirp3-HD-Orus\",\n",
    "    \"ko-KR-Chirp3-HD-Puck\", \"ko-KR-Chirp3-HD-Zephyr\",\n",
    "]\n",
    "\n",
    "client = texttospeech.TextToSpeechClient()\n",
    "\n",
    "for vname in voice_names:\n",
    "    text = f\"안녕하세요, 이 목소리는 {vname} 입니다. 닥터왓슨 약국에 오신것을 환영합니다. 무엇을 도와드릴까요? 콩깍지라도 까드릴까요?\"\n",
    "    synthesis_input = texttospeech.SynthesisInput(text=text)\n",
    "\n",
    "    # 성별 추정 (Chirp3 계열은 정보 없음, gender neutral로 처리)\n",
    "    if \"A\" in vname or \"B\" in vname or \"Kore\" in vname or \"Leda\" in vname or \"Aoede\" in vname or \"Zephyr\" in vname:\n",
    "        gender = texttospeech.SsmlVoiceGender.FEMALE\n",
    "    elif \"C\" in vname or \"D\" in vname or \"Charon\" in vname or \"Fenrir\" in vname or \"Orus\" in vname or \"Puck\" in vname:\n",
    "        gender = texttospeech.SsmlVoiceGender.MALE\n",
    "    else:\n",
    "        gender = texttospeech.SsmlVoiceGender.NEUTRAL\n",
    "\n",
    "    voice = texttospeech.VoiceSelectionParams(\n",
    "        language_code=\"ko-KR\",\n",
    "        name=vname,\n",
    "        ssml_gender=gender\n",
    "    )\n",
    "    audio_config = texttospeech.AudioConfig(\n",
    "        audio_encoding=texttospeech.AudioEncoding.MP3\n",
    "    )\n",
    "    try:\n",
    "        response = client.synthesize_speech(\n",
    "            input=synthesis_input,\n",
    "            voice=voice,\n",
    "            audio_config=audio_config\n",
    "        )\n",
    "        output_path = os.path.join(output_dir, f\"{vname}.mp3\")\n",
    "        with open(output_path, \"wb\") as out:\n",
    "            out.write(response.audio_content)\n",
    "        print(f\"{vname} 생성 완료: {output_path}\")\n",
    "    except Exception as e:\n",
    "        print(f\"{vname} 생성 실패: {e}\")\n"
   ]
  }
 ],
 "metadata": {
  "kernelspec": {
   "display_name": "ibm",
   "language": "python",
   "name": "python3"
  },
  "language_info": {
   "codemirror_mode": {
    "name": "ipython",
    "version": 3
   },
   "file_extension": ".py",
   "mimetype": "text/x-python",
   "name": "python",
   "nbconvert_exporter": "python",
   "pygments_lexer": "ipython3",
   "version": "3.11.9"
  }
 },
 "nbformat": 4,
 "nbformat_minor": 5
}
