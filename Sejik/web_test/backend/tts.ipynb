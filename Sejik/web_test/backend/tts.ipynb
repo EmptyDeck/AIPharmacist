{
 "cells": [
  {
   "cell_type": "code",
   "execution_count": 5,
   "id": "97b5c9fa",
   "metadata": {},
   "outputs": [
    {
     "name": "stdout",
     "output_type": "stream",
     "text": [
      "hello_world.wav 파일이 저장되었습니다.\n"
     ]
    }
   ],
   "source": [
    "import os\n",
    "import json\n",
    "import requests\n",
    "from dotenv import load_dotenv\n",
    "\n",
    "# 환경변수 불러오기\n",
    "load_dotenv()\n",
    "\n",
    "TTS_API_KEY = os.getenv('TTS_API_KEY')\n",
    "TTS_URL = os.getenv('TTS_URL')\n",
    "\n",
    "def synthesize_text(text, filename=\"output.wav\", voice=\"en-US_MichaelV3Voice\", accept=\"audio/wav\"):\n",
    "    # API endpoint\n",
    "    endpoint = f\"{TTS_URL}/v1/synthesize\"\n",
    "    headers = {\n",
    "        \"Content-Type\": \"application/json\",\n",
    "        \"Accept\": accept\n",
    "    }\n",
    "    payload = {\n",
    "        \"text\": text\n",
    "    }\n",
    "    auth = (\"apikey\", TTS_API_KEY)\n",
    "    params = {\n",
    "        \"voice\": voice\n",
    "    }\n",
    "\n",
    "    response = requests.post(endpoint, headers=headers, params=params, json=payload, auth=auth, stream=True)\n",
    "    \n",
    "    if response.status_code == 200:\n",
    "        with open(filename, \"wb\") as audio_file:\n",
    "            for chunk in response.iter_content(chunk_size=1024):\n",
    "                if chunk:\n",
    "                    audio_file.write(chunk)\n",
    "        print(f\"{filename} 파일이 저장되었습니다.\")\n",
    "    else:\n",
    "        print(\"에러:\", response.status_code)\n",
    "        print(response.text)\n",
    "\n",
    "if __name__ == \"__main__\":\n",
    "    synthesize_text(\"I am a big guy with a gun\", \"hello_world.wav\")\n"
   ]
  },
  {
   "cell_type": "code",
   "execution_count": 6,
   "id": "d2fa8d72",
   "metadata": {},
   "outputs": [
    {
     "name": "stdout",
     "output_type": "stream",
     "text": [
      "{'result_index': 0, 'results': [{'final': True, 'alternatives': [{'transcript': 'I am a big guy with a gun ', 'confidence': 0.92}]}]}\n"
     ]
    }
   ],
   "source": [
    "import os\n",
    "import requests\n",
    "from dotenv import load_dotenv\n",
    "\n",
    "# .env에서 환경변수 불러오기\n",
    "load_dotenv()\n",
    "\n",
    "STT_API_KEY = os.getenv('STT_API_KEY')\n",
    "STT_URL = os.getenv('STT_URL')\n",
    "\n",
    "def speech_to_text(audio_path, content_type='audio/wav',\n",
    "                   params=None):\n",
    "    \"\"\"IBM Watson STT 호출 함수 (WAV 파일용)\"\"\"\n",
    "    endpoint = f\"{STT_URL}/v1/recognize\"\n",
    "    headers = {\n",
    "        \"Content-Type\": content_type\n",
    "    }\n",
    "    auth = (\"apikey\", STT_API_KEY)\n",
    "\n",
    "    with open(audio_path, 'rb') as audio_file:\n",
    "        response = requests.post(\n",
    "            endpoint,\n",
    "            headers=headers,\n",
    "            data=audio_file,\n",
    "            params=params,\n",
    "            auth=auth\n",
    "        )\n",
    "\n",
    "    if response.status_code == 200:\n",
    "        return response.json()\n",
    "    else:\n",
    "        print(\"에러:\", response.status_code)\n",
    "        print(response.text)\n",
    "        return None\n",
    "\n",
    "if __name__ == \"__main__\":\n",
    "    AUDIO_FILE = \"hello_world.wav\"   # 변환하고자 하는 WAV 파일 경로로 변경\n",
    "    # 영어: 기본 모델 사용\n",
    "    result = speech_to_text(AUDIO_FILE, content_type=\"audio/wav\")\n",
    "    print(result)\n",
    "\n"
   ]
  }
 ],
 "metadata": {
  "kernelspec": {
   "display_name": "ibm",
   "language": "python",
   "name": "python3"
  },
  "language_info": {
   "codemirror_mode": {
    "name": "ipython",
    "version": 3
   },
   "file_extension": ".py",
   "mimetype": "text/x-python",
   "name": "python",
   "nbconvert_exporter": "python",
   "pygments_lexer": "ipython3",
   "version": "3.11.9"
  }
 },
 "nbformat": 4,
 "nbformat_minor": 5
}
