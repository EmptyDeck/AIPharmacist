{
 "cells": [
  {
   "cell_type": "code",
   "execution_count": 7,
   "id": "97b5c9fa",
   "metadata": {},
   "outputs": [
    {
     "name": "stdout",
     "output_type": "stream",
     "text": [
      "korean_output.wav 파일이 저장되었습니다.\n"
     ]
    }
   ],
   "source": [
    "import os\n",
    "import requests\n",
    "from dotenv import load_dotenv\n",
    "\n",
    "load_dotenv()\n",
    "\n",
    "TTS_API_KEY = os.getenv('TTS_API_KEY')\n",
    "TTS_URL = os.getenv('TTS_URL')\n",
    "\n",
    "def synthesize_korean_text(text, filename=\"output.wav\"):\n",
    "    endpoint = f\"{TTS_URL}/v1/synthesize\"\n",
    "    headers = {\n",
    "        \"Content-Type\": \"application/json\",\n",
    "        \"Accept\": \"audio/wav\"\n",
    "    }\n",
    "    payload = {\"text\": text}\n",
    "    auth = (\"apikey\", TTS_API_KEY)\n",
    "    params = {\"voice\": \"ko-KR_JinV3Voice\"}\n",
    "\n",
    "    response = requests.post(endpoint, headers=headers, params=params, json=payload, auth=auth, stream=True)\n",
    "    \n",
    "    if response.status_code == 200:\n",
    "        with open(filename, \"wb\") as audio_file:\n",
    "            for chunk in response.iter_content(chunk_size=1024):\n",
    "                if chunk:\n",
    "                    audio_file.write(chunk)\n",
    "        print(f\"{filename} 파일이 저장되었습니다.\")\n",
    "    else:\n",
    "        print(f\"에러: {response.status_code}\")\n",
    "        print(response.text)\n",
    "\n",
    "if __name__ == \"__main__\":\n",
    "    korean_text = '안녕하세요, 이것은 한국어 음성 합성 테스트입니다.'\n",
    "    synthesize_korean_text(korean_text, \"korean_output.wav\")"
   ]
  },
  {
   "cell_type": "code",
   "execution_count": 9,
   "id": "d2fa8d72",
   "metadata": {},
   "outputs": [
    {
     "name": "stdout",
     "output_type": "stream",
     "text": [
      "인식된 텍스트: 안녕하세요 이것은 난 구거음성 합성 테스트입니다\n",
      "정확도: 75.00%\n",
      "최종 결과: '안녕하세요 이것은 난 구거음성 합성 테스트입니다'\n"
     ]
    }
   ],
   "source": [
    "import os\n",
    "import requests\n",
    "from dotenv import load_dotenv\n",
    "\n",
    "load_dotenv()\n",
    "\n",
    "STT_API_KEY = os.getenv('STT_API_KEY')\n",
    "STT_URL = os.getenv('STT_URL')\n",
    "\n",
    "def korean_speech_to_text(audio_path):\n",
    "    endpoint = f\"{STT_URL}/v1/recognize\"\n",
    "    headers = {\"Content-Type\": \"audio/wav\"}\n",
    "    auth = (\"apikey\", STT_API_KEY)\n",
    "    \n",
    "    params = {\n",
    "        'model': 'ko-KR_Multimedia',\n",
    "        'timestamps': True,\n",
    "        'word_confidence': True,\n",
    "        'smart_formatting': True\n",
    "    }\n",
    "\n",
    "    try:\n",
    "        with open(audio_path, 'rb') as audio_file:\n",
    "            response = requests.post(endpoint, headers=headers, data=audio_file, params=params, auth=auth)\n",
    "\n",
    "        if response.status_code == 200:\n",
    "            result = response.json()\n",
    "            \n",
    "            if 'results' in result and len(result['results']) > 0:\n",
    "                best_result = result['results'][0]['alternatives'][0]\n",
    "                transcript = best_result['transcript'].strip()\n",
    "                confidence = best_result.get('confidence', 0)\n",
    "                \n",
    "                print(f\"인식된 텍스트: {transcript}\")\n",
    "                print(f\"정확도: {confidence:.2%}\")\n",
    "                \n",
    "                return transcript\n",
    "            else:\n",
    "                print(\"음성이 명확하게 인식되지 않았습니다.\")\n",
    "                return None\n",
    "        else:\n",
    "            print(f\"STT 변환 오류: {response.status_code}\")\n",
    "            print(response.text)\n",
    "            return None\n",
    "            \n",
    "    except FileNotFoundError:\n",
    "        print(f\"파일을 찾을 수 없습니다: {audio_path}\")\n",
    "        return None\n",
    "    except Exception as e:\n",
    "        print(f\"오류 발생: {str(e)}\")\n",
    "        return None\n",
    "\n",
    "if __name__ == \"__main__\":\n",
    "    audio_file = 'korean_output.wav'\n",
    "    result = korean_speech_to_text(audio_file)\n",
    "    \n",
    "    if result:\n",
    "        print(f\"최종 결과: '{result}'\")"
   ]
  }
 ],
 "metadata": {
  "kernelspec": {
   "display_name": "ibm",
   "language": "python",
   "name": "python3"
  },
  "language_info": {
   "codemirror_mode": {
    "name": "ipython",
    "version": 3
   },
   "file_extension": ".py",
   "mimetype": "text/x-python",
   "name": "python",
   "nbconvert_exporter": "python",
   "pygments_lexer": "ipython3",
   "version": "3.11.9"
  }
 },
 "nbformat": 4,
 "nbformat_minor": 5
}
