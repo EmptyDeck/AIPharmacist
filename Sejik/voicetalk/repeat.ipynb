{
 "cells": [
  {
   "cell_type": "code",
   "execution_count": 5,
   "id": "f4873fef",
   "metadata": {},
   "outputs": [
    {
     "name": "stdout",
     "output_type": "stream",
     "text": [
      "TTS WebM 음성 파일 저장 완료: output_korean.webm\n",
      "STT 인식 결과: 안녕하세요 왜 빈 파일로 디오 합성 예정입니다 \n"
     ]
    }
   ],
   "source": [
    "import os\n",
    "from dotenv import load_dotenv\n",
    "import requests\n",
    "\n",
    "# .env에서 설정 읽기\n",
    "load_dotenv()\n",
    "TTS_API_KEY = os.getenv('TTS_API_KEY')\n",
    "TTS_URL = os.getenv('TTS_URL')\n",
    "STT_API_KEY = os.getenv('STT_API_KEY')\n",
    "STT_URL = os.getenv('STT_URL')\n",
    "\n",
    "# 변환할 한국어 텍스트\n",
    "korean_text = \"안녕하세요, 웹엠 파일 오디오 합성 예제입니다.\"\n",
    "\n",
    "# 1. TTS (텍스트 → WebM 음성)\n",
    "tts_headers = {\n",
    "    'Content-Type': 'application/json',\n",
    "    'Accept': 'audio/webm'  # WebM 오디오 파일 요청\n",
    "}\n",
    "tts_data = {\n",
    "    'text': korean_text\n",
    "}\n",
    "tts_voice = 'ko-KR_JinV3Voice'\n",
    "tts_endpoint = f\"{TTS_URL}/v1/synthesize?voice={tts_voice}\"\n",
    "\n",
    "tts_response = requests.post(\n",
    "    tts_endpoint,\n",
    "    headers=tts_headers,\n",
    "    json=tts_data,\n",
    "    auth=('apikey', TTS_API_KEY)\n",
    ")\n",
    "\n",
    "if tts_response.status_code == 200:\n",
    "    audio_file_path = \"output_korean.webm\"\n",
    "    with open(audio_file_path, 'wb') as f:\n",
    "        f.write(tts_response.content)\n",
    "    print(\"TTS WebM 음성 파일 저장 완료:\", audio_file_path)\n",
    "else:\n",
    "    print(\"TTS 오류:\", tts_response.status_code, tts_response.text)\n",
    "    exit()\n",
    "\n",
    "# 2. STT (WebM 음성 → 텍스트)\n",
    "stt_headers = {\n",
    "    'Content-Type': 'audio/webm',\n",
    "    'Accept': 'application/json'\n",
    "}\n",
    "stt_model = \"ko-KR_BroadbandModel\"\n",
    "stt_endpoint = f\"{STT_URL}/v1/recognize?model={stt_model}\"\n",
    "\n",
    "with open(audio_file_path, 'rb') as audio:\n",
    "    stt_response = requests.post(\n",
    "        stt_endpoint,\n",
    "        headers=stt_headers,\n",
    "        data=audio,\n",
    "        auth=('apikey', STT_API_KEY)\n",
    "    )\n",
    "\n",
    "if stt_response.status_code == 200:\n",
    "    result_json = stt_response.json()\n",
    "    # 첫 번째 결과의 transcript 추출\n",
    "    recognized = result_json.get('results', [])\n",
    "    if recognized:\n",
    "        stt_text = recognized[0]['alternatives'][0]['transcript']\n",
    "        print(\"STT 인식 결과:\", stt_text)\n",
    "    else:\n",
    "        print(\"STT 인식 결과가 없습니다.\", result_json)\n",
    "else:\n",
    "    print(\"STT 오류:\", stt_response.status_code, stt_response.text)\n"
   ]
  }
 ],
 "metadata": {
  "kernelspec": {
   "display_name": "ibm",
   "language": "python",
   "name": "python3"
  },
  "language_info": {
   "codemirror_mode": {
    "name": "ipython",
    "version": 3
   },
   "file_extension": ".py",
   "mimetype": "text/x-python",
   "name": "python",
   "nbconvert_exporter": "python",
   "pygments_lexer": "ipython3",
   "version": "3.11.9"
  }
 },
 "nbformat": 4,
 "nbformat_minor": 5
}
