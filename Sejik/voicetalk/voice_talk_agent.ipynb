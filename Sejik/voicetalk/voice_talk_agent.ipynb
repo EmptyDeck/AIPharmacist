{
 "cells": [
  {
   "cell_type": "code",
   "execution_count": null,
   "id": "3deded76",
   "metadata": {},
   "outputs": [],
   "source": [
    "import requests\n",
    "\n",
    "API_KEY = \"fnuO5k8mU3q_NeAw7e2EzYg4URqqup2pdbnENGjItcj8\"\n",
    "token_response = requests.post('https://iam.cloud.ibm.com/identity/token', data={\"apikey\": API_KEY, \"grant_type\": 'urn:ibm:params:oauth:grant-type:apikey'})\n",
    "mltoken = token_response.json()[\"access_token\"]\n",
    "\n",
    "header = {'Content-Type': 'application/json', 'Authorization': 'Bearer ' + mltoken}\n",
    "\n",
    "# payload 수정: content와 role 채우기 (파라미터는 내장 가정하고 생략)\n",
    "payload_scoring = {\n",
    "    \"messages\": [\n",
    "        {\"role\": \"user\", \"content\": \"너에 대해서 설명해줘\"}\n",
    "    ]\n",
    "}\n",
    "\n",
    "response_scoring = requests.post('https://us-south.ml.cloud.ibm.com/ml/v4/deployments/a13f7396-1142-40d6-9531-f7719be5f3fe/ai_service?version=2021-05-01', json=payload_scoring, headers=header)\n",
    "\n",
    "print(\"Scoring response\")\n",
    "try:\n",
    "    print(response_scoring.json())\n",
    "except ValueError:\n",
    "    print(response_scoring.text)\n",
    "except Exception as e:\n",
    "    print(f\"An unexpected error occurred: {e}\")\n"
   ]
  },
  {
   "cell_type": "code",
   "execution_count": 2,
   "id": "2bf54557",
   "metadata": {},
   "outputs": [
    {
     "name": "stdout",
     "output_type": "stream",
     "text": [
      "Scoring response\n",
      "{'trace': '46b8eb03cdca3d1130dd2252fa706987', 'errors': [{'code': 'internal_server_error'}], 'status_code': 500}\n"
     ]
    }
   ],
   "source": [
    "import requests\n",
    "\n",
    "API_KEY = \"fnuO5k8mU3q_NeAw7e2EzYg4URqqup2pdbnENGjItcj8\"\n",
    "token_response = requests.post('https://iam.cloud.ibm.com/identity/token', data={\"apikey\": API_KEY, \"grant_type\": 'urn:ibm:params:oauth:grant-type:apikey'})\n",
    "mltoken = token_response.json()[\"access_token\"]\n",
    "\n",
    "header = {'Content-Type': 'application/json', 'Authorization': 'Bearer ' + mltoken}\n",
    "\n",
    "payload_scoring = {\"messages\":[{\"content\":\"\",\"role\":\"\"}]}\n",
    "\n",
    "response_scoring = requests.post('https://us-south.ml.cloud.ibm.com/ml/v4/deployments/a13f7396-1142-40d6-9531-f7719be5f3fe/ai_service_stream?version=2021-05-01', json=payload_scoring,\n",
    " headers={'Authorization': 'Bearer ' + mltoken})\n",
    "\n",
    "print(\"Scoring response\")\n",
    "try:\n",
    "    print(response_scoring.json())\n",
    "except ValueError:\n",
    "    print(response_scoring.text)\n",
    "except Exception as e:\n",
    "    print(f\"An unexpected error occurred: {e}\")"
   ]
  }
 ],
 "metadata": {
  "kernelspec": {
   "display_name": "ibm",
   "language": "python",
   "name": "python3"
  },
  "language_info": {
   "codemirror_mode": {
    "name": "ipython",
    "version": 3
   },
   "file_extension": ".py",
   "mimetype": "text/x-python",
   "name": "python",
   "nbconvert_exporter": "python",
   "pygments_lexer": "ipython3",
   "version": "3.11.9"
  }
 },
 "nbformat": 4,
 "nbformat_minor": 5
}
